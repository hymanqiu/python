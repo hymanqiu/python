{
  "metadata": {
    "celltoolbar": "Edit Metadata",
    "colab": {
      "provenance": []
    },
    "kernelspec": {
      "display_name": "itp-2Kqn_PFC-py3.9",
      "language": "python",
      "name": "python3"
    },
    "language_info": {
      "codemirror_mode": {
        "name": "ipython",
        "version": 3
      },
      "file_extension": ".py",
      "mimetype": "text/x-python",
      "name": "python",
      "nbconvert_exporter": "python",
      "pygments_lexer": "ipython3",
      "version": "3.9.13 (main, Aug 23 2022, 16:31:44) \n[GCC 11.2.0]"
    },
    "vscode": {
      "interpreter": {
        "hash": "0303ba2bc48424e9d62843e5a189c3a61f6738ac9b67e6fb3d8ee51038db9d95"
      }
    }
  },
  "nbformat": 4,
  "nbformat_minor": 0,
  "cells": [
    {
      "cell_type": "code",
      "execution_count": 1,
      "source": [
        "# Run this cell first!\n",
        "class _CgAnswers: ...\n",
        "answers = _CgAnswers()\n"
      ],
      "outputs": [],
      "metadata": {
        "trusted": true,
        "editable": false,
        "deletable": false,
        "id": "uq5OLp_5vz8T"
      }
    },
    {
      "cell_type": "markdown",
      "metadata": {
        "id": "Am9ecw9yWv96",
        "nbgrader": {
          "grade": false,
          "grade_id": "cell-48f3558955bbd1c0",
          "locked": true,
          "schema_version": 3,
          "solution": false,
          "task": false
        },
        "trusted": true,
        "editable": false,
        "deletable": false
      },
      "source": [
        "# MBA Big Data - Coding Lab - Assignment 1\n",
        "\n",
        "Author: Julien ROSSI j.rossi@uva.nl\n",
        "\n",
        "MBA Big Data and Business Analytics\n",
        "\n",
        "Amsterdam Business School\n",
        "\n",
        "University of Amsterdam"
      ]
    },
    {
      "cell_type": "markdown",
      "metadata": {
        "id": "xg2v6bkkP3rg",
        "trusted": true,
        "editable": false,
        "deletable": false
      },
      "source": [
        "___\n",
        "\n",
        "\n",
        "* This assignment is made for auto-grading with CodeGrade in Canvas\n",
        "* Write your code\n",
        "* **NEVER TOUCH THE CODE WHERE IT IS MARKED \"DO NOT CHANGE\"**\n",
        "* Submit through Canvas\n",
        "* Check the feedback\n",
        "\n",
        "___\n",
        "\n",
        "\n",
        "* There are **6 questions** for a total of **20 points**\n",
        "  * Q1.1: 2 points \n",
        "  * Q1.2: 3 points \n",
        "  * Q1.3: 5 points\n",
        "  * Q1.4: 5 points\n",
        "  * Q2.1: 3 points \n",
        "  * Q2.2: 2 points \n",
        "\n",
        "___"
      ]
    },
    {
      "cell_type": "markdown",
      "metadata": {
        "tags": [],
        "trusted": true,
        "editable": false,
        "deletable": false,
        "id": "eh84qVHovz8o"
      },
      "source": [
        "# Question 1.1 - Harmonic Mean (2 points)"
      ]
    },
    {
      "cell_type": "markdown",
      "metadata": {
        "trusted": true,
        "editable": false,
        "deletable": false,
        "id": "Jd8Qw6llvz8p"
      },
      "source": [
        "The harmonic mean of 2 numbers $x$ and $y$ is given by \n",
        "\n",
        "$H = \\frac{2}{\\frac{1}{x} + \\frac{1}{y}}$\n",
        "\n",
        "\n",
        "**ASSIGNMENT**\n",
        "\n",
        "Write a function:\n",
        "* named `hmean`\n",
        "* accepting 2 arguments, named `x` and `y`\n",
        "* returning a number: the harmonic mean of `x` and `y`\n",
        "\n",
        "**GRADING** \n",
        "* Q1_1_1: Defining `hmean` correctly (arguments): 1 point\n",
        "* Q1_1_2: Getting the right result when using `hmean`: 1 point\n",
        "* The results are tested by calling `hmean` with 10 random pairs of numbers between 1 and 50\n"
      ]
    },
    {
      "cell_type": "code",
      "execution_count": 2,
      "metadata": {
        "id": "JGpgxdt7CsjH",
        "nbgrader": {
          "grade": false,
          "grade_id": "cell-9bd844c85ce879f1",
          "locked": true,
          "schema_version": 3,
          "solution": false,
          "task": false
        }
      },
      "outputs": [],
      "source": [
        "### BEGIN SOLUTION\n",
        "def hmean(x, y):\n",
        "  h = 2/((1/x) + (1/y))\n",
        "  return h\n",
        "### END SOLUTION\n",
        "\n",
        "# Test\n",
        "#import random\n",
        "#random.seed(123)\n",
        "#x_rand = random.sample(range(1, 50), 10)\n",
        "#y_rand = random.sample(range(1, 50), 10)\n",
        "#for i in range(10):\n",
        "#  hmean(x_rand[i], y_rand[i])\n"
      ]
    },
    {
      "cell_type": "code",
      "execution_count": 3,
      "metadata": {
        "deletable": false,
        "editable": false,
        "tags": [],
        "id": "a29-ljcdvz8q"
      },
      "outputs": [],
      "source": [
        "# DO NOT CHANGE \n",
        "answers.Q1_1_1 = hmean\n",
        "answers.Q1_1_2 = hmean"
      ]
    },
    {
      "cell_type": "markdown",
      "metadata": {
        "trusted": true,
        "editable": false,
        "deletable": false,
        "id": "YTd9hXaSvz8r"
      },
      "source": [
        "# Question 1.2 - Harmonic Mean + Type Annotation (3 points)"
      ]
    },
    {
      "cell_type": "markdown",
      "metadata": {
        "trusted": true,
        "editable": false,
        "deletable": false,
        "id": "udvL_jt-vz8s"
      },
      "source": [
        "**ASSIGNMENT**\n",
        "* Take the solution to Exercise 1, Copy/Paste\n",
        "* Rename the function `hmean_annotated`\n",
        "* Insert type hinting for parameters and return value\n",
        "* This function receives `float` numbers and returns one `float` number\n",
        "* End result: define a function `hmean_annotated` with type hinting, which computes the harmonic mean\n",
        "\n",
        "**GRADING**\n",
        "* Q1_2_1: Defining `hmean_annotated` correctly (arguments): 1 point\n",
        "* Q1_2_2: Annotating arguments and return value: 1 point\n",
        "* Q1_2_3: Getting the right results: 1 point\n",
        "* The results are tested by calling `hmean_annotated` with 10 random pairs of numbers between 1 and 50\n"
      ]
    },
    {
      "cell_type": "code",
      "execution_count": 4,
      "metadata": {
        "id": "pEI_bWI2vz8t"
      },
      "outputs": [],
      "source": [
        "### BEGIN SOLUTION\n",
        "def hmean_annotated(x: float, y: float) -> float:\n",
        "  h = 2/((1/x) + (1/y))\n",
        "  return h\n",
        "### END SOLUTION"
      ]
    },
    {
      "cell_type": "code",
      "source": [
        "hmean_annotated(2.1234,111.234343)"
      ],
      "metadata": {
        "colab": {
          "base_uri": "https://localhost:8080/"
        },
        "id": "Vt6F9CGB8hhc",
        "outputId": "102e7106-b6ba-4f00-f3ed-f9c5907f89a3"
      },
      "execution_count": 5,
      "outputs": [
        {
          "output_type": "execute_result",
          "data": {
            "text/plain": [
              "4.167249588344398"
            ]
          },
          "metadata": {},
          "execution_count": 5
        }
      ]
    },
    {
      "cell_type": "code",
      "execution_count": 6,
      "metadata": {
        "deletable": false,
        "editable": false,
        "tags": [],
        "id": "-xphM4_3vz8t"
      },
      "outputs": [],
      "source": [
        "# DO NOT CHANGE \n",
        "answers.Q1_2_1 = hmean_annotated\n",
        "answers.Q1_2_2 = hmean_annotated\n",
        "answers.Q1_2_3 = hmean_annotated"
      ]
    },
    {
      "cell_type": "markdown",
      "metadata": {
        "trusted": true,
        "editable": false,
        "deletable": false,
        "id": "AekAN90Uvz8u"
      },
      "source": [
        "# Question 1.3 Harmonic Mean of Multiple Numbers (5 points)"
      ]
    },
    {
      "cell_type": "markdown",
      "metadata": {
        "trusted": true,
        "editable": false,
        "deletable": false,
        "id": "j1ACzqWkvz8u"
      },
      "source": [
        "Given $N$ numbers $x_1, x_2, ..., x_N$, the harmonic mean is given by the formula:\n",
        "\n",
        "$H = \\frac{N}{\\sum_{i=1}^{N}\\frac{1}{x_i}}$\n",
        "\n",
        "For example, the harmonic mean of $3.2, 1.5, -4.7$ is given by:\n",
        "\n",
        "$H = \\frac{3}{\\frac{1}{3.2} + \\frac{1}{1.5} - \\frac{1}{4.7}} = 3.9144013880855986$\n",
        "\n",
        "**ASSIGNMENT**\n",
        "* Write a function `hmean_n`\n",
        "  * takes a variable number of numbers, using `*numbers` \n",
        "  * returns the harmonic mean of all the numbers\n",
        "\n",
        "\n",
        "**GRADING**\n",
        "* You get 0 or 5 points for this question\n",
        "* The function is tested with lists of random lengths, containing random numbers\n",
        "\n",
        "\n",
        "**SELF-TEST**\n",
        "\n",
        "The following code should display `True` 3 times\n",
        "```python\n",
        "import math\n",
        "\n",
        "print(math.isclose(hmean_n(1.1, 2.2, 3.3), 1.8))\n",
        "print(math.isclose(hmean_n(128, 64, 32, 16, 8), 20.64516129032258))\n",
        "print(math.isclose(hmean_n(1, 1, 1, 1, 1, 1, 1), 1.0))\n",
        "```\n"
      ]
    },
    {
      "cell_type": "code",
      "execution_count": 88,
      "metadata": {
        "id": "Jw-ByPgyvz8v"
      },
      "outputs": [],
      "source": [
        "### BEGIN SOLUTION\n",
        "def hmean_n(*numbers):\n",
        "  caculations = 0\n",
        "  for i in range(len(numbers)):\n",
        "    caculations += 1/numbers[i]\n",
        "  return len(numbers)/caculations       \n",
        "### END SOLUTION"
      ]
    },
    {
      "cell_type": "code",
      "source": [
        "import math\n",
        "\n",
        "print(math.isclose(hmean_n(1.1, 2.2, 3.3), 1.8))\n",
        "print(math.isclose(hmean_n(128, 64, 32, 16, 8), 20.64516129032258))\n",
        "print(math.isclose(hmean_n(1, 1, 1, 1, 1, 1, 1), 1.0))"
      ],
      "metadata": {
        "colab": {
          "base_uri": "https://localhost:8080/"
        },
        "id": "GWurX0_f_ZzT",
        "outputId": "4f28fea6-1a60-4fbd-9f7c-7533ddb43305"
      },
      "execution_count": 89,
      "outputs": [
        {
          "output_type": "stream",
          "name": "stdout",
          "text": [
            "True\n",
            "True\n",
            "True\n"
          ]
        }
      ]
    },
    {
      "cell_type": "code",
      "execution_count": 9,
      "metadata": {
        "id": "cZGGoiOdvz8w"
      },
      "outputs": [],
      "source": [
        "# DO NOT CHANGE\n",
        "answers.Q1_3 = hmean_n"
      ]
    },
    {
      "cell_type": "markdown",
      "metadata": {
        "trusted": true,
        "editable": false,
        "deletable": false,
        "id": "CZDPZkYHvz8w"
      },
      "source": [
        "# Question 1.4 Power Harmonic Mean of Multiple Numbers (5 points)"
      ]
    },
    {
      "cell_type": "markdown",
      "metadata": {
        "trusted": true,
        "editable": false,
        "deletable": false,
        "id": "ga17eGffvz8x"
      },
      "source": [
        "Given $N$ numbers $x_1, x_2, ..., x_N$, and a power $p$, the power harmonic mean is given by the formula:\n",
        "\n",
        "$H = \\frac{N^p}{\\sum_{i=1}^{N}\\frac{1}{x_i^p}}$\n",
        "\n",
        "For example, the 2-harmonic mean of $3.2, 1.5, -4.7$ is given by:\n",
        "\n",
        "$H = \\frac{3^2}{\\frac{1}{3.2^2} + \\frac{1}{1.5^2} + \\frac{1}{(-4.7)^2}} = 15.322538227046461$\n",
        "\n",
        "**ASSIGNMENT**\n",
        "* Write a function `hmean_np`\n",
        "  * takes a variable number of numbers, using `*numbers` \n",
        "  * takes an argument `p` of type `float` with default value `1.0`\n",
        "  * returns the power harmonic mean of all the numbers\n",
        "* Use type hinting for `*numbers` and `p`\n",
        "\n",
        "\n",
        "**GRADING**\n",
        "* You get 0 or 5 points for this question\n",
        "* Type hinting and default value will be checked for arguments\n",
        "* Type hinting of the return value will be checked\n",
        "* The function is tested with lists of random lengths, made of random numbers\n",
        "\n",
        "\n",
        "**SELF-TEST**\n",
        "\n",
        "The following code should display `True` 3 times\n",
        "```python\n",
        "import math\n",
        "\n",
        "print(math.isclose(hmean_np(1.1, 2.2, 3.3), 1.8))\n",
        "print(math.isclose(hmean_np(1.1, 2.2, 3.3, p=2), 8.000816326530613))\n",
        "print(math.isclose(hmean_np(1.1, 2.2, 3.3, p=3.2), 40.07675079330546))\n",
        "print(math.isclose(hmean_np(1.1, 2.2, 3.3, p=-9.01), 1.0427918202888967e-09))\n",
        "```\n"
      ]
    },
    {
      "cell_type": "code",
      "execution_count": 97,
      "metadata": {
        "id": "L2eeTIXrvz8y"
      },
      "outputs": [],
      "source": [
        "### BEGIN SOLUTION\n",
        "def hmean_np(*numbers:float, p:float = 1.0) -> float:\n",
        "  caculation = 0\n",
        "  for i in range(len(numbers)):\n",
        "    caculation += 1/numbers[i]**p\n",
        "  return len(numbers)**p / caculation\n",
        "### END SOLUTION"
      ]
    },
    {
      "cell_type": "code",
      "source": [
        "import math\n",
        "\n",
        "print(math.isclose(hmean_np(1.1, 2.2, 3.3), 1.8))\n",
        "print(math.isclose(hmean_np(1.1, 2.2, 3.3, p=2), 8.000816326530613))\n",
        "print(math.isclose(hmean_np(1.1, 2.2, 3.3, p=3.2), 40.07675079330546))\n",
        "print(math.isclose(hmean_np(1.1, 2.2, 3.3, p=-9.01), 1.0427918202888967e-09))"
      ],
      "metadata": {
        "colab": {
          "base_uri": "https://localhost:8080/"
        },
        "id": "sZB2HRn6Lb4F",
        "outputId": "4a2ab10f-a46b-4cc9-fbc9-9695829ebc35"
      },
      "execution_count": 98,
      "outputs": [
        {
          "output_type": "stream",
          "name": "stdout",
          "text": [
            "True\n",
            "True\n",
            "True\n",
            "True\n"
          ]
        }
      ]
    },
    {
      "cell_type": "code",
      "execution_count": 47,
      "metadata": {
        "id": "Xha_sXhHvz8y"
      },
      "outputs": [],
      "source": [
        "# DO NOT CHANGE\n",
        "answers.Q1_4 = hmean_np"
      ]
    },
    {
      "cell_type": "markdown",
      "metadata": {
        "trusted": true,
        "editable": false,
        "deletable": false,
        "id": "3Po6bjPYvz8z"
      },
      "source": [
        "# Question 2.1 - Net Present Value"
      ]
    },
    {
      "cell_type": "markdown",
      "metadata": {
        "trusted": true,
        "editable": false,
        "deletable": false,
        "id": "-7Skc1A3vz8z"
      },
      "source": [
        "* Concept you will study in **Financial Accounting**\n",
        "* Allows for the representation of the value of an entire company project (think product launch)\n",
        "* Given a project with hypothetical cash-flows in Year 0, 1, 2, ... $\\textrm{cashflows} = {c_i, i = 0, 1, 2, ..., N}$\n",
        "* Given a discount rate $r > 0$ (usually given in percent $4.5\\% = 0.045$)\n",
        "\n",
        "$\\textrm{NPV} = \\frac{c_0}{(1 + r)^0} + \\frac{c_1}{(1 + r)^1} + \\frac{c_2}{(1 + r)^2} + \\ldots + \\frac{c_N}{(1 + r)^N}$\n",
        "\n",
        "__\n",
        "\n",
        "**Example**\n",
        "* Company A launches a new SaaS product\n",
        "* Year 0 - making the product\n",
        "  * Spending: write the software + provision hardware = $4M$\n",
        "  * Revenue: $0$\n",
        "* Year 1 - first sells\n",
        "  * Spending: debug + marketing + operations = $1M$\n",
        "  * Revenue: $200K$\n",
        "* Year 2 - in operation\n",
        "  * Spending: marketing + operations: $200K$\n",
        "  * Revenue: $2M$\n",
        "* Year 3 - in operation\n",
        "  * Spending: marketing + operations: $200K$\n",
        "  * Revenue: $4M$\n",
        "* Discount rate: $4.5\\%$\n",
        "\n",
        "We obtain:\n",
        "$\\textrm{NPV} = \\frac{-4M}{1.045^0} + \\frac{-0.8M}{1.045^1} + \\frac{1.8M}{1.045^2} + \\frac{3.8M}{1.045^3} = 0.21269076840148982 = 0.2M$\n",
        "\n",
        "___\n",
        "\n",
        "\n",
        "**ASSIGNMENT**\n",
        "* write a function `npv`\n",
        "* 2 arguments:\n",
        "  * `cashflows`: a list of cash-flows. Each cash-flow is a `float` number.\n",
        "  * `r_pct`: the discount rate, **as a percentage** (`r_pct=4.5` means the discount rate is `r=0.045`)\n",
        "* return 1 value\n",
        "  * the NPV according to the formula above\n",
        "* It will be tested with the example AND with a randomly created list of cash-flows\n",
        "\n",
        "* Use the idea of the plan\n",
        "  * skills: no import allowed\n",
        "  * assemble the team\n",
        "  * execute the plan\n",
        "  * share the results (return value)\n",
        "  \n",
        "* Python skills:\n",
        "  * list\n",
        "  * loops `for` or `while`\n",
        "  * mathematical operations (multiply, divide, power, add)\n",
        "  * function \n",
        "  \n",
        "___\n",
        "\n",
        "\n",
        "**GRADING**\n",
        "* Q2_1_1: Defining the function properly: 1 point\n",
        "* Q2_1_2: Getting the expected values: 2 points"
      ]
    },
    {
      "cell_type": "code",
      "execution_count": 104,
      "metadata": {
        "id": "HDavFsNovz80"
      },
      "outputs": [],
      "source": [
        "### BEGIN SOLUTION\n",
        "def npv(cashflows: list, r_pct:float = 1.0) -> float:\n",
        "  caculation = 0\n",
        "  for i in range(len(cashflows)):\n",
        "    caculation += cashflows[i]/(1+r_pct*0.01)**i\n",
        "  return caculation\n",
        "### END SOLUTION"
      ]
    },
    {
      "cell_type": "code",
      "source": [
        "npv([-4.0, -0.8, 1.8, 3.8], 4.5)"
      ],
      "metadata": {
        "colab": {
          "base_uri": "https://localhost:8080/"
        },
        "id": "oMKKEZtX0UND",
        "outputId": "8da77fe9-6fa6-47cc-a049-61f3aef47ea3"
      },
      "execution_count": 105,
      "outputs": [
        {
          "output_type": "execute_result",
          "data": {
            "text/plain": [
              "0.21269076840148982"
            ]
          },
          "metadata": {},
          "execution_count": 105
        }
      ]
    },
    {
      "cell_type": "code",
      "execution_count": 101,
      "metadata": {
        "deletable": false,
        "editable": false,
        "tags": [],
        "id": "TZA7DXoKvz80"
      },
      "outputs": [],
      "source": [
        "# DO NOT CHANGE \n",
        "answers.Q2_1_1 = npv\n",
        "answers.Q2_1_2 = npv"
      ]
    },
    {
      "cell_type": "markdown",
      "metadata": {
        "trusted": true,
        "editable": false,
        "deletable": false,
        "id": "5EpVuzkHvz80"
      },
      "source": [
        "# Question 2.2 - NPV and IRR\n",
        "\n",
        "* Given a real-life project (one with some negative cashflows early on), there is a value of the discount rate for which the NPV is $0$. \n",
        "* This value is called the IRR\n",
        "* `npv(cashflows, irr)` returns `0.0`\n",
        "* We will find this value by *brute force*, ie we will try different values for the discount rate between a `start` and `end` \n",
        "* if we have a positive NPV for one value, and a negative for the next, then the first value is the IRR (same if we have negative NPV then positive)\n",
        "* `npv(cashflows, 9.6)` is positive, `npv(cashflows, 9.7)` is negative, then `IRR = 9.6`\n",
        "\n",
        "\n",
        "___\n",
        "\n",
        "\n",
        "**Assignment**\n",
        "* Write a function named `find_irr`\n",
        "* It accepts the following parameters:\n",
        "  * `cashflows` the list of cashflows\n",
        "  * `start_at` the lowest value of discount rate we start with (a percentage, such as `4.5`)\n",
        "  * `end_at` the highest value of discount rate we end with (a percentage, such as `25.0`)\n",
        "  * `nb_samples` the number of values we try between `start_at` and `end_at` (an integer such as `1000`)\n",
        "* It returns:\n",
        "  * the value of the discount rate BEFORE the NPV changes sign (from negative to positive, or negative to positive)\n",
        "  * `-10.0` if no such value was found\n",
        "* It uses the function `npv` from the previous exercise\n",
        "* **do not use numpy_financial.irr**\n",
        "  \n",
        "___\n",
        "\n",
        "\n",
        "**Example**\n",
        "* with the cashflows in the example project: `-4.0, -0.8, 1.8, 3.8`\n",
        "* the IRR is `0.06335622133627572` or `6.335622133627572 %`\n",
        "* using our function to search from `0.0%` to `100.0%`, with `nb_samples = 1000`, we should obtain `6.3` as a result\n"
      ]
    },
    {
      "cell_type": "code",
      "execution_count": 112,
      "metadata": {
        "id": "iRxwNqVCvz81"
      },
      "outputs": [],
      "source": [
        "### BEGIN SOLUTION\n",
        "def find_irr(cashflows: list, start_at = 0.0, end_at = 100.0, nb_samples = 1000) -> float:\n",
        "  epsilon = (end_at - start_at) / nb_samples\n",
        "  print(epsilon)\n",
        "  index = start_at\n",
        "  while index < end_at:\n",
        "    a = npv(cashflows, index)\n",
        "    if (index + epsilon <= end_at):\n",
        "      b = npv(cashflows, index + epsilon)\n",
        "      if a*b < 0:\n",
        "        return index\n",
        "      else:\n",
        "        index += epsilon\n",
        "    else:\n",
        "      break\n",
        "  return -10.0\n",
        "### END SOLUTION"
      ]
    },
    {
      "cell_type": "code",
      "source": [
        "cashflow = [-4.0, -0.8, 1.8, 3.8]"
      ],
      "metadata": {
        "id": "Bi5SXy4sS5WH"
      },
      "execution_count": 113,
      "outputs": []
    },
    {
      "cell_type": "code",
      "source": [
        "find_irr(cashflow, 0, 100, 1000)"
      ],
      "metadata": {
        "colab": {
          "base_uri": "https://localhost:8080/"
        },
        "id": "To9BqpJdwtgZ",
        "outputId": "f38ae2e3-8776-49b7-8c09-ed8b3bf4e5a1"
      },
      "execution_count": 114,
      "outputs": [
        {
          "output_type": "stream",
          "name": "stdout",
          "text": [
            "0.1\n"
          ]
        },
        {
          "output_type": "execute_result",
          "data": {
            "text/plain": [
              "6.299999999999994"
            ]
          },
          "metadata": {},
          "execution_count": 114
        }
      ]
    },
    {
      "cell_type": "code",
      "execution_count": 115,
      "metadata": {
        "deletable": false,
        "editable": false,
        "tags": [],
        "id": "WzCHsu1bvz81"
      },
      "outputs": [],
      "source": [
        "# DO NOT CHANGE \n",
        "answers.Q2_2 = find_irr"
      ]
    }
  ]
}